{
  "cells": [
    {
      "cell_type": "markdown",
      "metadata": {
        "id": "view-in-github",
        "colab_type": "text"
      },
      "source": [
        "<a href=\"https://colab.research.google.com/github/Mayher2000/Pytorch/blob/main/pytorch.ipynb\" target=\"_parent\"><img src=\"https://colab.research.google.com/assets/colab-badge.svg\" alt=\"Open In Colab\"/></a>"
      ]
    },
    {
      "cell_type": "markdown",
      "metadata": {
        "id": "ElixoyQq1geH"
      },
      "source": [
        "# Introduction to PyTorch\n",
        "\n",
        "This tutorial shows the basics of PyTorch library.\n",
        "\n",
        "We design simple Neural Networks for classification task on MNIST dataset.\n",
        "\n",
        "Necessary knowledge you can find in PyTorch documentation:\n",
        "\n",
        "https://pytorch.org/docs/stable/index.html\n",
        "\n",
        "and tutorials:\n",
        "\n",
        "https://pytorch.org/tutorials/beginner/basics/quickstart_tutorial.html"
      ]
    },
    {
      "cell_type": "code",
      "execution_count": 2,
      "metadata": {
        "id": "BWQ_Vd0D1geJ"
      },
      "outputs": [],
      "source": [
        "!mkdir data"
      ]
    },
    {
      "cell_type": "markdown",
      "metadata": {
        "id": "uizbzg8x1geK"
      },
      "source": [
        "1. PyTorch is based on tensor operations.\n",
        "Please create tensors in the following ways:\n",
        "- directly with python list\n",
        "- from `numpy`\n",
        "- with random values (initialize generator with your academic id / student number from USOS system)\n",
        "- linear space in range from -5 to 15 and number of elements.\n",
        "- 3 tensors with indices of each element of grid for dimensions: 1, 2, 3 (without 0-th - basically is a batch dim)\n",
        "\n",
        "For all cases use `shape = (1, 3, 28, 28)`.\n",
        "\n",
        "For display use `print` function."
      ]
    },
    {
      "cell_type": "code",
      "execution_count": 3,
      "metadata": {
        "colab": {
          "base_uri": "https://localhost:8080/"
        },
        "id": "sj-bKjyM1geK",
        "outputId": "6403acc2-292f-4875-a807-9b5a98bf7533"
      },
      "outputs": [
        {
          "output_type": "stream",
          "name": "stdout",
          "text": [
            "Tensor from Python list:\n",
            "torch.Size([3, 28, 28])\n",
            "tensor([[[ 0,  1,  2,  ..., 25, 26, 27],\n",
            "         [ 0,  1,  2,  ..., 25, 26, 27],\n",
            "         [ 0,  1,  2,  ..., 25, 26, 27],\n",
            "         ...,\n",
            "         [ 0,  1,  2,  ..., 25, 26, 27],\n",
            "         [ 0,  1,  2,  ..., 25, 26, 27],\n",
            "         [ 0,  1,  2,  ..., 25, 26, 27]],\n",
            "\n",
            "        [[ 0,  1,  2,  ..., 25, 26, 27],\n",
            "         [ 0,  1,  2,  ..., 25, 26, 27],\n",
            "         [ 0,  1,  2,  ..., 25, 26, 27],\n",
            "         ...,\n",
            "         [ 0,  1,  2,  ..., 25, 26, 27],\n",
            "         [ 0,  1,  2,  ..., 25, 26, 27],\n",
            "         [ 0,  1,  2,  ..., 25, 26, 27]],\n",
            "\n",
            "        [[ 0,  1,  2,  ..., 25, 26, 27],\n",
            "         [ 0,  1,  2,  ..., 25, 26, 27],\n",
            "         [ 0,  1,  2,  ..., 25, 26, 27],\n",
            "         ...,\n",
            "         [ 0,  1,  2,  ..., 25, 26, 27],\n",
            "         [ 0,  1,  2,  ..., 25, 26, 27],\n",
            "         [ 0,  1,  2,  ..., 25, 26, 27]]])\n",
            "\n",
            "Tensor from NumPy array:\n",
            "torch.Size([1, 3, 28, 28])\n",
            "tensor([[[[0.2719, 0.1053, 0.6916,  ..., 0.6212, 0.2975, 0.0423],\n",
            "          [0.1907, 0.3760, 0.7691,  ..., 0.6348, 0.3041, 0.5674],\n",
            "          [0.5725, 0.7659, 0.9694,  ..., 0.0632, 0.5326, 0.7547],\n",
            "          ...,\n",
            "          [0.2966, 0.6498, 0.8541,  ..., 0.9742, 0.4427, 0.5353],\n",
            "          [0.2284, 0.0940, 0.0289,  ..., 0.5448, 0.1849, 0.2236],\n",
            "          [0.6748, 0.1094, 0.0632,  ..., 0.0022, 0.6487, 0.2903]],\n",
            "\n",
            "         [[0.2642, 0.0776, 0.1477,  ..., 0.1991, 0.4483, 0.9185],\n",
            "          [0.2523, 0.8118, 0.3713,  ..., 0.2283, 0.4982, 0.0282],\n",
            "          [0.7597, 0.1838, 0.9853,  ..., 0.2018, 0.7571, 0.4033],\n",
            "          ...,\n",
            "          [0.5797, 0.5144, 0.3708,  ..., 0.5175, 0.4916, 0.3174],\n",
            "          [0.9556, 0.8727, 0.3507,  ..., 0.5019, 0.0497, 0.5478],\n",
            "          [0.8564, 0.5106, 0.9971,  ..., 0.7284, 0.5036, 0.8002]],\n",
            "\n",
            "         [[0.9027, 0.9511, 0.9198,  ..., 0.0097, 0.1773, 0.3355],\n",
            "          [0.9275, 0.8925, 0.4813,  ..., 0.8505, 0.0618, 0.2542],\n",
            "          [0.1679, 0.7645, 0.3400,  ..., 0.2640, 0.9953, 0.3473],\n",
            "          ...,\n",
            "          [0.1342, 0.0747, 0.3330,  ..., 0.0695, 0.5466, 0.8222],\n",
            "          [0.2102, 0.6212, 0.2148,  ..., 0.4028, 0.6861, 0.3167],\n",
            "          [0.1118, 0.1957, 0.3206,  ..., 0.3319, 0.6762, 0.1839]]]],\n",
            "       dtype=torch.float64)\n",
            "\n",
            "Random Tensor:\n",
            "torch.Size([1, 3, 28, 28])\n",
            "tensor([[[[-1.4798,  0.4873, -3.0128,  ..., -1.1316,  0.8680,  0.7079],\n",
            "          [ 0.2058, -0.9300,  0.1142,  ..., -1.1714,  0.6393,  0.6015],\n",
            "          [ 0.3857, -0.4650, -1.7947,  ..., -0.5270,  0.0385, -0.4882],\n",
            "          ...,\n",
            "          [ 1.1493, -1.8912, -0.6682,  ..., -0.4412, -0.5213, -2.1741],\n",
            "          [ 0.1483,  2.5217,  1.0707,  ...,  1.1898,  1.2107,  0.3880],\n",
            "          [ 0.8061, -0.2693,  0.3109,  ...,  1.2633, -0.2343, -1.4459]],\n",
            "\n",
            "         [[-0.6149, -0.0778, -0.3242,  ...,  0.9115,  0.2532,  0.2863],\n",
            "          [-0.0847,  0.7974,  2.1825,  ..., -1.2900,  1.4932,  0.0829],\n",
            "          [-0.2522,  0.4140,  1.8887,  ...,  0.3982, -0.5224,  0.2988],\n",
            "          ...,\n",
            "          [ 0.2789, -0.2856,  0.4978,  ...,  0.5463, -1.1607,  0.1005],\n",
            "          [-0.2647, -0.0665, -1.3416,  ..., -1.6463, -0.5922, -0.8912],\n",
            "          [ 0.1046,  1.7928,  1.2939,  ...,  0.4397, -0.1530, -0.2400]],\n",
            "\n",
            "         [[-2.6714, -1.0612,  0.6430,  ...,  1.0059, -1.9151,  0.3750],\n",
            "          [ 0.2382, -1.6126,  0.1386,  ..., -2.1925, -0.7018,  2.0994],\n",
            "          [ 0.7537,  0.2604,  0.2946,  ...,  0.4778,  1.2092, -0.4509],\n",
            "          ...,\n",
            "          [-1.9037, -0.2772, -0.0431,  ...,  1.4677, -0.1308, -0.5240],\n",
            "          [-1.0848,  0.5619,  1.1139,  ..., -1.2223, -0.6585,  0.3092],\n",
            "          [-0.7056, -2.1848, -0.5183,  ..., -0.3889, -0.6569,  0.7517]]]])\n",
            "\n",
            "Linear Tensor:\n",
            "torch.Size([1, 3, 28, 28])\n",
            "tensor([[[[-5.0000, -4.9915, -4.9830,  ..., -4.7873, -4.7788, -4.7703],\n",
            "          [-4.7618, -4.7533, -4.7448,  ..., -4.5491, -4.5406, -4.5321],\n",
            "          [-4.5236, -4.5151, -4.5066,  ..., -4.3109, -4.3024, -4.2939],\n",
            "          ...,\n",
            "          [ 0.9549,  0.9634,  0.9719,  ...,  1.1676,  1.1761,  1.1846],\n",
            "          [ 1.1931,  1.2016,  1.2101,  ...,  1.4058,  1.4143,  1.4228],\n",
            "          [ 1.4313,  1.4398,  1.4483,  ...,  1.6440,  1.6525,  1.6610]],\n",
            "\n",
            "         [[ 1.6695,  1.6780,  1.6865,  ...,  1.8822,  1.8907,  1.8992],\n",
            "          [ 1.9077,  1.9162,  1.9247,  ...,  2.1204,  2.1289,  2.1374],\n",
            "          [ 2.1459,  2.1544,  2.1629,  ...,  2.3586,  2.3671,  2.3756],\n",
            "          ...,\n",
            "          [ 7.6244,  7.6329,  7.6414,  ...,  7.8371,  7.8456,  7.8541],\n",
            "          [ 7.8626,  7.8711,  7.8796,  ...,  8.0753,  8.0838,  8.0923],\n",
            "          [ 8.1008,  8.1093,  8.1178,  ...,  8.3135,  8.3220,  8.3305]],\n",
            "\n",
            "         [[ 8.3390,  8.3475,  8.3560,  ...,  8.5517,  8.5602,  8.5687],\n",
            "          [ 8.5772,  8.5857,  8.5942,  ...,  8.7899,  8.7984,  8.8069],\n",
            "          [ 8.8154,  8.8239,  8.8324,  ...,  9.0281,  9.0366,  9.0451],\n",
            "          ...,\n",
            "          [14.2939, 14.3024, 14.3109,  ..., 14.5066, 14.5151, 14.5236],\n",
            "          [14.5321, 14.5406, 14.5491,  ..., 14.7448, 14.7533, 14.7618],\n",
            "          [14.7703, 14.7788, 14.7873,  ..., 14.9830, 14.9915, 15.0000]]]])\n",
            "\n",
            "Grid Indices Tensor 1:\n",
            "torch.Size([1, 3, 28, 28])\n",
            "tensor([[[[0, 0, 0,  ..., 0, 0, 0],\n",
            "          [0, 0, 0,  ..., 0, 0, 0],\n",
            "          [0, 0, 0,  ..., 0, 0, 0],\n",
            "          ...,\n",
            "          [0, 0, 0,  ..., 0, 0, 0],\n",
            "          [0, 0, 0,  ..., 0, 0, 0],\n",
            "          [0, 0, 0,  ..., 0, 0, 0]],\n",
            "\n",
            "         [[1, 1, 1,  ..., 1, 1, 1],\n",
            "          [1, 1, 1,  ..., 1, 1, 1],\n",
            "          [1, 1, 1,  ..., 1, 1, 1],\n",
            "          ...,\n",
            "          [1, 1, 1,  ..., 1, 1, 1],\n",
            "          [1, 1, 1,  ..., 1, 1, 1],\n",
            "          [1, 1, 1,  ..., 1, 1, 1]],\n",
            "\n",
            "         [[2, 2, 2,  ..., 2, 2, 2],\n",
            "          [2, 2, 2,  ..., 2, 2, 2],\n",
            "          [2, 2, 2,  ..., 2, 2, 2],\n",
            "          ...,\n",
            "          [2, 2, 2,  ..., 2, 2, 2],\n",
            "          [2, 2, 2,  ..., 2, 2, 2],\n",
            "          [2, 2, 2,  ..., 2, 2, 2]]]])\n",
            "\n",
            "Grid Indices Tensor 2:\n",
            "torch.Size([1, 3, 28, 28])\n",
            "tensor([[[[ 0,  0,  0,  ...,  0,  0,  0],\n",
            "          [ 1,  1,  1,  ...,  1,  1,  1],\n",
            "          [ 2,  2,  2,  ...,  2,  2,  2],\n",
            "          ...,\n",
            "          [25, 25, 25,  ..., 25, 25, 25],\n",
            "          [26, 26, 26,  ..., 26, 26, 26],\n",
            "          [27, 27, 27,  ..., 27, 27, 27]],\n",
            "\n",
            "         [[ 0,  0,  0,  ...,  0,  0,  0],\n",
            "          [ 1,  1,  1,  ...,  1,  1,  1],\n",
            "          [ 2,  2,  2,  ...,  2,  2,  2],\n",
            "          ...,\n",
            "          [25, 25, 25,  ..., 25, 25, 25],\n",
            "          [26, 26, 26,  ..., 26, 26, 26],\n",
            "          [27, 27, 27,  ..., 27, 27, 27]],\n",
            "\n",
            "         [[ 0,  0,  0,  ...,  0,  0,  0],\n",
            "          [ 1,  1,  1,  ...,  1,  1,  1],\n",
            "          [ 2,  2,  2,  ...,  2,  2,  2],\n",
            "          ...,\n",
            "          [25, 25, 25,  ..., 25, 25, 25],\n",
            "          [26, 26, 26,  ..., 26, 26, 26],\n",
            "          [27, 27, 27,  ..., 27, 27, 27]]]])\n",
            "\n",
            "Grid Indices Tensor 3:\n",
            "torch.Size([1, 3, 28, 28])\n",
            "tensor([[[[ 0,  1,  2,  ..., 25, 26, 27],\n",
            "          [ 0,  1,  2,  ..., 25, 26, 27],\n",
            "          [ 0,  1,  2,  ..., 25, 26, 27],\n",
            "          ...,\n",
            "          [ 0,  1,  2,  ..., 25, 26, 27],\n",
            "          [ 0,  1,  2,  ..., 25, 26, 27],\n",
            "          [ 0,  1,  2,  ..., 25, 26, 27]],\n",
            "\n",
            "         [[ 0,  1,  2,  ..., 25, 26, 27],\n",
            "          [ 0,  1,  2,  ..., 25, 26, 27],\n",
            "          [ 0,  1,  2,  ..., 25, 26, 27],\n",
            "          ...,\n",
            "          [ 0,  1,  2,  ..., 25, 26, 27],\n",
            "          [ 0,  1,  2,  ..., 25, 26, 27],\n",
            "          [ 0,  1,  2,  ..., 25, 26, 27]],\n",
            "\n",
            "         [[ 0,  1,  2,  ..., 25, 26, 27],\n",
            "          [ 0,  1,  2,  ..., 25, 26, 27],\n",
            "          [ 0,  1,  2,  ..., 25, 26, 27],\n",
            "          ...,\n",
            "          [ 0,  1,  2,  ..., 25, 26, 27],\n",
            "          [ 0,  1,  2,  ..., 25, 26, 27],\n",
            "          [ 0,  1,  2,  ..., 25, 26, 27]]]])\n"
          ]
        }
      ],
      "source": [
        "import torch\n",
        "import numpy as np\n",
        "\n",
        "# Creating a tensor directly from a Python list\n",
        "tensor_from_list = torch.tensor([[list(range(28))]*28]*3)\n",
        "print(\"Tensor from Python list:\")\n",
        "print(tensor_from_list.shape)\n",
        "print(tensor_from_list)\n",
        "\n",
        "# Creating a tensor from a NumPy array\n",
        "numpy_array = np.random.rand(1, 3, 28, 28)\n",
        "tensor_from_numpy = torch.from_numpy(numpy_array)\n",
        "print(\"\\nTensor from NumPy array:\")\n",
        "print(tensor_from_numpy.shape)\n",
        "print(tensor_from_numpy)\n",
        "\n",
        "# Creating a tensor with random values using a random seed\n",
        "torch.manual_seed(12345)\n",
        "random_tensor = torch.randn(1, 3, 28, 28)\n",
        "print(\"\\nRandom Tensor:\")\n",
        "print(random_tensor.shape)\n",
        "print(random_tensor)\n",
        "\n",
        "# Creating a tensor with linear space values\n",
        "linear_tensor = torch.linspace(-5, 15, 28*28*3).reshape(1, 3, 28, 28)\n",
        "print(\"\\nLinear Tensor:\")\n",
        "print(linear_tensor.shape)\n",
        "print(linear_tensor)\n",
        "\n",
        "# Creating tensors with indices of each element of a grid\n",
        "grid_indices_1 = torch.tensor(np.indices((1, 3, 28, 28))[1])\n",
        "grid_indices_2 = torch.tensor(np.indices((1, 3, 28, 28))[2])\n",
        "grid_indices_3 = torch.tensor(np.indices((1, 3, 28, 28))[3])\n",
        "print(\"\\nGrid Indices Tensor 1:\")\n",
        "print(grid_indices_1.shape)\n",
        "print(grid_indices_1)\n",
        "print(\"\\nGrid Indices Tensor 2:\")\n",
        "print(grid_indices_2.shape)\n",
        "print(grid_indices_2)\n",
        "print(\"\\nGrid Indices Tensor 3:\")\n",
        "print(grid_indices_3.shape)\n",
        "print(grid_indices_3)\n"
      ]
    },
    {
      "cell_type": "markdown",
      "metadata": {
        "id": "KkLCe1En1geL"
      },
      "source": [
        "2. PyTorch allow for applying GPU for computations.\n",
        "Check is gpu (CUDA) is available, then use it as `device`, else use `'cpu'`."
      ]
    },
    {
      "cell_type": "code",
      "execution_count": 4,
      "metadata": {
        "colab": {
          "base_uri": "https://localhost:8080/"
        },
        "id": "JC-uYBMo1geL",
        "outputId": "95bb72fc-83a0-4a18-87f5-ec98f7e7707d"
      },
      "outputs": [
        {
          "output_type": "stream",
          "name": "stdout",
          "text": [
            "CUDA is available. Using GPU.\n"
          ]
        }
      ],
      "source": [
        "device = torch.device(\"cuda\")\n",
        "print(\"CUDA is available. Using GPU.\")"
      ]
    },
    {
      "cell_type": "markdown",
      "metadata": {
        "id": "plMSnrQS1geL"
      },
      "source": [
        "3. To train a networks we need a dataset.\n",
        "\n",
        "Please download `MINIST` dataset with `torchvision.dataset`.\n",
        "\n",
        "For any kind of ML task, validation or testing is required.\n",
        "\n",
        "So, create train and test datasets.\n",
        "\n",
        "For train dataset apply also augmentation transforms, crop, translation and rotation.\n",
        "\n",
        "You can try to apply different transforms.\n",
        "\n",
        "For both apply ToTensor.\n",
        "\n",
        "Next, pack datasets into `DataLoader`s with batch size of 64.\n",
        "Use variables with names: `train_loader` and `test_loader`.\n",
        "\n",
        "Next display sizes of datasets, shapes of elements and display few images and their labels."
      ]
    },
    {
      "cell_type": "code",
      "execution_count": 5,
      "metadata": {
        "colab": {
          "base_uri": "https://localhost:8080/",
          "height": 694
        },
        "id": "g1naRgIb1geM",
        "outputId": "69a2721a-a863-4bc4-91ac-ec777cdac3b7"
      },
      "outputs": [
        {
          "output_type": "stream",
          "name": "stdout",
          "text": [
            "Downloading http://yann.lecun.com/exdb/mnist/train-images-idx3-ubyte.gz\n",
            "Downloading http://yann.lecun.com/exdb/mnist/train-images-idx3-ubyte.gz to ./data/MNIST/raw/train-images-idx3-ubyte.gz\n"
          ]
        },
        {
          "output_type": "stream",
          "name": "stderr",
          "text": [
            "100%|██████████| 9912422/9912422 [00:00<00:00, 99180593.25it/s]\n"
          ]
        },
        {
          "output_type": "stream",
          "name": "stdout",
          "text": [
            "Extracting ./data/MNIST/raw/train-images-idx3-ubyte.gz to ./data/MNIST/raw\n",
            "\n",
            "Downloading http://yann.lecun.com/exdb/mnist/train-labels-idx1-ubyte.gz\n",
            "Downloading http://yann.lecun.com/exdb/mnist/train-labels-idx1-ubyte.gz to ./data/MNIST/raw/train-labels-idx1-ubyte.gz\n"
          ]
        },
        {
          "output_type": "stream",
          "name": "stderr",
          "text": [
            "100%|██████████| 28881/28881 [00:00<00:00, 57031870.92it/s]\n"
          ]
        },
        {
          "output_type": "stream",
          "name": "stdout",
          "text": [
            "Extracting ./data/MNIST/raw/train-labels-idx1-ubyte.gz to ./data/MNIST/raw\n",
            "\n",
            "Downloading http://yann.lecun.com/exdb/mnist/t10k-images-idx3-ubyte.gz\n",
            "Downloading http://yann.lecun.com/exdb/mnist/t10k-images-idx3-ubyte.gz to ./data/MNIST/raw/t10k-images-idx3-ubyte.gz\n"
          ]
        },
        {
          "output_type": "stream",
          "name": "stderr",
          "text": [
            "100%|██████████| 1648877/1648877 [00:00<00:00, 27486333.71it/s]\n"
          ]
        },
        {
          "output_type": "stream",
          "name": "stdout",
          "text": [
            "Extracting ./data/MNIST/raw/t10k-images-idx3-ubyte.gz to ./data/MNIST/raw\n",
            "\n",
            "Downloading http://yann.lecun.com/exdb/mnist/t10k-labels-idx1-ubyte.gz\n",
            "Downloading http://yann.lecun.com/exdb/mnist/t10k-labels-idx1-ubyte.gz to ./data/MNIST/raw/t10k-labels-idx1-ubyte.gz\n"
          ]
        },
        {
          "output_type": "stream",
          "name": "stderr",
          "text": [
            "100%|██████████| 4542/4542 [00:00<00:00, 16623498.05it/s]\n"
          ]
        },
        {
          "output_type": "stream",
          "name": "stdout",
          "text": [
            "Extracting ./data/MNIST/raw/t10k-labels-idx1-ubyte.gz to ./data/MNIST/raw\n",
            "\n",
            "Train dataset size: 60000\n",
            "Test dataset size: 10000\n",
            "Sample data shape: torch.Size([1, 28, 28])\n",
            "Sample target shape: 5\n"
          ]
        },
        {
          "output_type": "display_data",
          "data": {
            "text/plain": [
              "<Figure size 1200x400 with 5 Axes>"
            ],
            "image/png": "[encoded data removed]"
          },
          "metadata": {}
        }
      ],
      "source": [
        "import torch\n",
        "from torch.utils.data import DataLoader\n",
        "from torchvision import datasets\n",
        "from torchvision.transforms import ToTensor\n",
        "import matplotlib.pyplot as plt\n",
        "\n",
        "# Download the train dataset\n",
        "train_data = datasets.MNIST(\n",
        "    root='./data',\n",
        "    train=True,\n",
        "    download=True,\n",
        "    transform=ToTensor(),\n",
        ")\n",
        "\n",
        "# Download the test dataset\n",
        "test_data = datasets.MNIST(\n",
        "    root='./data',\n",
        "    train=False,\n",
        "    download=True,\n",
        "    transform=ToTensor(),\n",
        ")\n",
        "\n",
        "# Create train and test DataLoaders\n",
        "batch_size = 64\n",
        "train_loader = DataLoader(train_data, batch_size=batch_size, shuffle=True)\n",
        "test_loader = DataLoader(test_data, batch_size=batch_size, shuffle=False)\n",
        "\n",
        "# Display dataset sizes\n",
        "print(\"Train dataset size:\", len(train_data))\n",
        "print(\"Test dataset size:\", len(test_data))\n",
        "\n",
        "# Display shape of a sample element\n",
        "sample_data, sample_target = train_data[0]\n",
        "print(\"Sample data shape:\", sample_data.shape)\n",
        "print(\"Sample target shape:\", sample_target)\n",
        "\n",
        "# Display a few sample images with labels\n",
        "num_samples = 5\n",
        "fig, axs = plt.subplots(1, num_samples, figsize=(12, 4))\n",
        "\n",
        "for i in range(num_samples):\n",
        "    data, target = train_data[i]\n",
        "    image = data.squeeze().numpy()\n",
        "    axs[i].imshow(image, cmap='gray')\n",
        "    axs[i].set_title(\"Label: {}\".format(target))\n",
        "\n",
        "plt.tight_layout()\n",
        "plt.show()\n"
      ]
    },
    {
      "cell_type": "markdown",
      "metadata": {
        "id": "p-adpg691geN"
      },
      "source": [
        "4. `*`Additionally, you can prepare analysis of datasets.\n",
        "\n",
        "E.g. statistics like mean and variance of all elements, for each label.\n",
        "\n",
        "Analysis can allow you for designing better network architecture.   "
      ]
    },
    {
      "cell_type": "code",
      "execution_count": null,
      "metadata": {
        "id": "3Ve_aEq-1geN"
      },
      "outputs": [],
      "source": []
    },
    {
      "cell_type": "markdown",
      "metadata": {
        "id": "XZJBKqMR1geN"
      },
      "source": [
        "5. When we have datasets, so we can create model for classification task.\n",
        "\n",
        "Please, define class `MLP` as Multi Layer Perceptron\n",
        "\n",
        "with two hidden fully connected layers with bias.\n",
        "\n",
        "Class must inherits from `torch.nn.Module`.\n",
        "\n",
        "Apply following configuration:\n",
        "\n",
        "- first with 512 neurons,\n",
        "- second with 512 neurons,\n",
        "- output layer adjust to size of classification problem.\n",
        "\n",
        "For `__init__` method add parameters: input_shape and output_size.\n",
        "\n",
        "Don't forget about nonlinearities!\n",
        "\n",
        "For hidden layers you can use `ReLU` module from `torch.nn`.\n",
        "\n",
        "For output apply softmax function.\n",
        "\n",
        "Network layer-by-layer processing define in `forward` method with argument as a network\n",
        "\n",
        "input tensor - batch of images with shape (batch_size, channels, height, width).\n",
        "(channels = 1, for gray scale images)\n",
        "\n",
        "Instantiate model as `net` object.\n"
      ]
    },
    {
      "cell_type": "code",
      "execution_count": 6,
      "metadata": {
        "id": "Wp8z8KQl1geN"
      },
      "outputs": [],
      "source": [
        "import torch.nn as nn\n",
        "class MLP(nn.Module):\n",
        "    def __init__(self, input_shape, output_size):\n",
        "        super(MLP, self).__init__()\n",
        "\n",
        "        # Calculate the input size for the first fully connected layer\n",
        "        input_size = input_shape[0] * input_shape[1] * input_shape[2]\n",
        "\n",
        "        # Define the layers\n",
        "        self.fc1 = nn.Linear(input_size, 512)\n",
        "        self.relu1 = nn.ReLU()\n",
        "        self.fc2 = nn.Linear(512, 512)\n",
        "        self.relu2 = nn.ReLU()\n",
        "        self.fc3 = nn.Linear(512, output_size)\n",
        "        self.softmax = nn.Softmax(dim=1)\n",
        "\n",
        "    def forward(self, x):\n",
        "        x = x.view(x.size(0), -1)  # Flatten the input tensor\n",
        "        x = self.relu1(self.fc1(x))\n",
        "        x = self.relu2(self.fc2(x))\n",
        "        x = self.softmax(self.fc3(x))\n",
        "        return x\n",
        "\n",
        "# Instantiate the model\n",
        "input_shape = (1, 28, 28)  # Assuming input images are grayscale\n",
        "output_size = 10  # Number of classes for classification\n",
        "net = MLP(input_shape, output_size)\n"
      ]
    },
    {
      "cell_type": "markdown",
      "metadata": {
        "id": "E9JvtN-x1geO"
      },
      "source": [
        "6. To train network we need to know 'how good or bad' results it gives.\n",
        "Please, instantiate `torch.nn.CrossEntropyLoss` as `loss_fcn`."
      ]
    },
    {
      "cell_type": "code",
      "execution_count": 7,
      "metadata": {
        "id": "GFt0CNk_1geO"
      },
      "outputs": [],
      "source": [
        "# Instantiate the CrossEntropyLoss\n",
        "loss_fcn = nn.CrossEntropyLoss()"
      ]
    },
    {
      "cell_type": "markdown",
      "metadata": {
        "id": "Z2jXkJNT1geO"
      },
      "source": [
        "7. To score network define accuracy metric.\n",
        "For network output you need to decide what is the final network answer.\n",
        "(`argmax`).\n",
        "\n",
        "`torch.no_grad()` prevents gradient requirement for computations inside method."
      ]
    },
    {
      "cell_type": "code",
      "execution_count": 8,
      "metadata": {
        "id": "1GowEZmD1geO"
      },
      "outputs": [],
      "source": [
        "from abc import ABC, abstractmethod\n",
        "from typing import Any\n",
        "import torch\n",
        "\n",
        "class BaseMetic(ABC):\n",
        "\n",
        "    @abstractmethod\n",
        "    def __call__(self, y_pred, y_ref) -> Any:\n",
        "        raise NotImplementedError()\n",
        "\n",
        "\n",
        "class AccuracyMetic(BaseMetic):\n",
        "\n",
        "    def __init__(self) -> None:\n",
        "        pass\n",
        "\n",
        "    @torch.no_grad()\n",
        "    def __call__(self, y_pred: torch.Tensor, y_ref: torch.Tensor) -> torch.Tensor:\n",
        "        \"\"\"\n",
        "        :param y_pred: tensor of shape (batch_size, num_of_classes) type float\n",
        "        :param y_ref: tensor with shape (batch_size,) and type Long\n",
        "        :return: scalar tensor with accuracy metric for batch\n",
        "        \"\"\"\n",
        "        # Get the predicted labels by finding the index of the maximum value along the second dimension\n",
        "        predicted_labels = torch.argmax(y_pred, dim=1)\n",
        "\n",
        "        # Calculate the accuracy metric by comparing the predicted labels with the reference labels\n",
        "        accuracy = (predicted_labels == y_ref).float().mean()\n",
        "\n",
        "        return accuracy\n",
        "\n",
        "\n",
        "metric = AccuracyMetic()\n"
      ]
    },
    {
      "cell_type": "markdown",
      "metadata": {
        "id": "38mzxnoZ1geO"
      },
      "source": [
        "8. To change network parameters, we need optimizers object.\n",
        "Instantiate `torch.optim.SGD` (with `net`work parameters) as `optimizer`.\n",
        "Use learning rate = 0.001"
      ]
    },
    {
      "cell_type": "code",
      "execution_count": 9,
      "metadata": {
        "id": "r-LgyPr91geO"
      },
      "outputs": [],
      "source": [
        "import torch.optim as optim\n",
        "\n",
        "# Instantiate the SGD optimizer\n",
        "optimizer = optim.SGD(net.parameters(), lr=0.01)"
      ]
    },
    {
      "cell_type": "markdown",
      "metadata": {
        "id": "2KI-9pij1geO"
      },
      "source": [
        "9. Now define training / testing function:"
      ]
    },
    {
      "cell_type": "code",
      "execution_count": 10,
      "metadata": {
        "id": "xVPecFXn1geP"
      },
      "outputs": [],
      "source": [
        "from typing import Tuple\n",
        "import tqdm\n",
        "\n",
        "\n",
        "def train(model,\n",
        "          data_generator,\n",
        "          criterion,\n",
        "          metric: BaseMetic,\n",
        "          mode: str = 'test',\n",
        "          optimizer: torch.optim.Optimizer = None,\n",
        "          update_period: int = None,\n",
        "          device = torch.device('cpu')) -> Tuple[torch.nn.Module, float, float]:\n",
        "\n",
        "    # Change model mode to train or test\n",
        "    if mode == 'train':\n",
        "        model.train()\n",
        "    elif mode == 'test':\n",
        "        model.eval()\n",
        "    else:\n",
        "        raise RuntimeError(\"Unsupported mode.\")\n",
        "\n",
        "    # Move model to device\n",
        "    model = model.to(device)\n",
        "\n",
        "    # Reset model parameters' gradients with optimizer\n",
        "    if mode == 'train':\n",
        "        optimizer.zero_grad()\n",
        "\n",
        "    total_loss = 0.0\n",
        "    total_accuracy = 0.0\n",
        "    samples_num = 0\n",
        "\n",
        "    for i, (X, y) in tqdm.tqdm(enumerate(data_generator)):\n",
        "        # Convert tensors to device\n",
        "        X = X.to(device)\n",
        "        y = y.to(device)\n",
        "\n",
        "        # Depending on mode, use or not torch.no_grad() as 'with' block\n",
        "        with torch.no_grad() if mode == 'test' else torch.enable_grad():\n",
        "            # Process by network\n",
        "            y_pred = model(X)\n",
        "\n",
        "            # Calculate loss\n",
        "            loss = criterion(y_pred, y)\n",
        "\n",
        "            if mode == 'train':\n",
        "                # Designate gradient based on loss\n",
        "                loss.backward()\n",
        "\n",
        "                if (i+1) % update_period == 0:\n",
        "                    # Update parameters with optimizer\n",
        "                    optimizer.step()\n",
        "                    optimizer.zero_grad()\n",
        "\n",
        "        # Calculate accuracy\n",
        "        accuracy = metric(y_pred, y)\n",
        "\n",
        "        total_loss += loss.item() * y_pred.shape[0]\n",
        "        total_accuracy += accuracy.item() * y_pred.shape[0]\n",
        "        samples_num += y_pred.shape[0]\n",
        "\n",
        "    if samples_num == 0:\n",
        "        return model, 0.0, 0.0\n",
        "\n",
        "    return model, total_loss / samples_num, total_accuracy / samples_num\n"
      ]
    },
    {
      "cell_type": "markdown",
      "metadata": {
        "id": "RtimexhD1geP"
      },
      "source": [
        "10. Prepare training loop (over epochs) function:\n",
        "- adjust max number of epochs to achieve satisfactory results.\n",
        "- `**` additionally, implement auto-detection of bias-variance tradeoff point, to break further training.\n",
        "- `***` additionally, use learning rate scheduler.\n",
        "- for each epoch collect losses and accuracies for both datasets."
      ]
    },
    {
      "cell_type": "code",
      "execution_count": 11,
      "metadata": {
        "id": "46_3h_na1geP"
      },
      "outputs": [],
      "source": [
        "from typing import List\n",
        "\n",
        "def train_loop(model,\n",
        "               train_loader,\n",
        "               test_loader,\n",
        "               criterion,\n",
        "               metric: BaseMetic,\n",
        "               optimizer: torch.optim.Optimizer,\n",
        "               scheduler: torch.optim.lr_scheduler._LRScheduler,\n",
        "               num_epochs: int,\n",
        "               update_period: int,\n",
        "               device = torch.device('cpu')) -> List[List[float]]:\n",
        "\n",
        "    train_losses = []\n",
        "    train_accuracies = []\n",
        "    test_losses = []\n",
        "    test_accuracies = []\n",
        "\n",
        "    best_test_accuracy = 0.0\n",
        "    early_stopping_counter = 0\n",
        "\n",
        "    for epoch in range(num_epochs):\n",
        "        # Training\n",
        "        model, train_loss, train_accuracy = train(model, train_loader, criterion, metric, 'train', optimizer, update_period, device)\n",
        "        train_losses.append(train_loss)\n",
        "        train_accuracies.append(train_accuracy)\n",
        "\n",
        "        # Testing\n",
        "        with torch.no_grad():\n",
        "            model, test_loss, test_accuracy = train(model, test_loader, criterion, metric, 'test', device=device)\n",
        "            test_losses.append(test_loss)\n",
        "            test_accuracies.append(test_accuracy)\n",
        "\n",
        "        # Update learning rate with scheduler\n",
        "        scheduler.step()\n",
        "\n",
        "        # Early stopping based on bias-variance tradeoff\n",
        "        if test_accuracy <= best_test_accuracy:\n",
        "            early_stopping_counter += 1\n",
        "        else:\n",
        "            best_test_accuracy = test_accuracy\n",
        "            early_stopping_counter = 0\n",
        "\n",
        "        if early_stopping_counter >= 5:\n",
        "            print(\"Early stopping: Bias-variance tradeoff reached.\")\n",
        "            break\n",
        "\n",
        "    return [train_losses, train_accuracies, test_losses, test_accuracies]\n"
      ]
    },
    {
      "cell_type": "markdown",
      "metadata": {
        "id": "td_I_Fl61geP"
      },
      "source": [
        "11. Display training history."
      ]
    },
    {
      "cell_type": "code",
      "execution_count": 12,
      "metadata": {
        "id": "PMn2dF7N1geP"
      },
      "outputs": [],
      "source": [
        "import matplotlib.pyplot as plt\n",
        "def display_training_history(train_losses, train_accuracies, test_losses, test_accuracies):\n",
        "    epochs = len(train_losses)\n",
        "    x = range(1, epochs+1)\n",
        "\n",
        "    # Plot losses\n",
        "    plt.figure(figsize=(10, 4))\n",
        "    plt.subplot(1, 2, 1)\n",
        "    plt.plot(x, train_losses, label='Training Loss')\n",
        "    plt.plot(x, test_losses, label='Testing Loss')\n",
        "    plt.xlabel('Epoch')\n",
        "    plt.ylabel('Loss')\n",
        "    plt.title('Training and Testing Loss')\n",
        "    plt.legend()\n",
        "\n",
        "    # Plot accuracies\n",
        "    plt.subplot(1, 2, 2)\n",
        "    plt.plot(x, train_accuracies, label='Training Accuracy')\n",
        "    plt.plot(x, test_accuracies, label='Testing Accuracy')\n",
        "    plt.xlabel('Epoch')\n",
        "    plt.ylabel('Accuracy')\n",
        "    plt.title('Training and Testing Accuracy')\n",
        "    plt.legend()\n",
        "\n",
        "    plt.tight_layout()\n",
        "    plt.show()\n",
        "\n"
      ]
    },
    {
      "cell_type": "code",
      "source": [
        "from torch.optim.lr_scheduler import StepLR\n",
        "\n",
        "# Define the learning rate scheduler\n",
        "\n",
        "update_period = 100  # Define the update period\n",
        "num_epochs = 10\n",
        "criterion = torch.nn.CrossEntropyLoss()\n",
        "model = MLP(input_shape, output_size)\n",
        "optimizer = torch.optim.SGD(model.parameters(), lr=0.01)\n",
        "scheduler = StepLR(optimizer, step_size=1, gamma=0.1)\n",
        "# ... define other parameters and data loaders ...\n",
        "\n",
        "train_losses, train_accuracies, test_losses, test_accuracies = train_loop(model, train_loader, test_loader, criterion, metric, optimizer, scheduler, num_epochs, update_period, device)\n",
        "\n",
        "# Display the training history\n",
        "display_training_history(train_losses, train_accuracies, test_losses, test_accuracies)\n"
      ],
      "metadata": {
        "colab": {
          "base_uri": "https://localhost:8080/",
          "height": 737
        },
        "id": "k6ItTWqXVHhu",
        "outputId": "66a31312-01e2-41c1-a4f7-4728d5d4fae3"
      },
      "execution_count": 13,
      "outputs": [
        {
          "output_type": "stream",
          "name": "stderr",
          "text": [
            "938it [00:15, 62.20it/s]\n",
            "157it [00:01, 106.15it/s]\n",
            "938it [00:10, 90.09it/s]\n",
            "157it [00:01, 104.80it/s]\n",
            "938it [00:10, 91.59it/s]\n",
            "157it [00:01, 105.27it/s]\n",
            "938it [00:10, 90.53it/s]\n",
            "157it [00:01, 106.54it/s]\n",
            "938it [00:10, 92.02it/s] \n",
            "157it [00:01, 107.23it/s]\n",
            "938it [00:10, 91.63it/s]\n",
            "157it [00:01, 110.48it/s]\n",
            "938it [00:10, 92.19it/s]\n",
            "157it [00:01, 104.63it/s]\n",
            "938it [00:11, 83.08it/s]\n",
            "157it [00:01, 106.61it/s]\n",
            "938it [00:10, 92.42it/s]\n",
            "157it [00:01, 107.41it/s]\n"
          ]
        },
        {
          "output_type": "stream",
          "name": "stdout",
          "text": [
            "Early stopping: Bias-variance tradeoff reached.\n"
          ]
        },
        {
          "output_type": "display_data",
          "data": {
            "text/plain": [
              "<Figure size 1000x400 with 2 Axes>"
            ],
            "image/png": "[encoded data removed]"
          },
          "metadata": {}
        }
      ]
    },
    {
      "cell_type": "markdown",
      "metadata": {
        "id": "mEWzrKn81geP"
      },
      "source": [
        "12. Save model and optimizer states to files.\n",
        "\n",
        "Use method `state_dict` and function `torch.save`."
      ]
    },
    {
      "cell_type": "code",
      "execution_count": 14,
      "metadata": {
        "id": "XQqsD9xC1geQ"
      },
      "outputs": [],
      "source": [
        "# Save the model state to a file\n",
        "torch.save(model.state_dict(), 'model_state.pth')\n",
        "\n",
        "# Save the optimizer state to a file\n",
        "torch.save(optimizer.state_dict(), 'optimizer_state.pth')"
      ]
    },
    {
      "cell_type": "markdown",
      "metadata": {
        "id": "ScPz6cMc1geQ"
      },
      "source": [
        "13. Create new network with the same architecture and initialize it with saved weights.\n",
        "\n",
        "`torch.load`, `load_state_dict`."
      ]
    },
    {
      "cell_type": "code",
      "execution_count": 15,
      "metadata": {
        "id": "ze7IzMGG1geQ",
        "colab": {
          "base_uri": "https://localhost:8080/"
        },
        "outputId": "186926d4-899d-4fb9-b5f7-d77daa44cdb7"
      },
      "outputs": [
        {
          "output_type": "execute_result",
          "data": {
            "text/plain": [
              "<All keys matched successfully>"
            ]
          },
          "metadata": {},
          "execution_count": 15
        }
      ],
      "source": [
        "# 1. Define the architecture of the new network\n",
        "net2 = MLP(input_shape, output_size)\n",
        "\n",
        "# 2. Load the saved weights\n",
        "saved_weights = torch.load('model_state.pth')\n",
        "\n",
        "# 3. Load the weights into the new network\n",
        "net2.load_state_dict(saved_weights)\n"
      ]
    },
    {
      "cell_type": "markdown",
      "metadata": {
        "id": "fMvr_2ix1geQ"
      },
      "source": [
        "14. Define your own model and train it.\n",
        "\n",
        "Try achieve better results.\n",
        "\n",
        "You can use different parameters, layers e.g.:\n",
        "- conv2d\n",
        "- maxpooling2d\n",
        "- batch norm 2d\n",
        "- and more...\n",
        "\n",
        "Save weights to file."
      ]
    },
    {
      "cell_type": "code",
      "execution_count": 16,
      "metadata": {
        "id": "lJ7g4Er71geQ",
        "colab": {
          "base_uri": "https://localhost:8080/"
        },
        "outputId": "d923883c-832b-436e-ea0f-893c8cac06c4"
      },
      "outputs": [
        {
          "output_type": "stream",
          "name": "stdout",
          "text": [
            "Epoch [1/10], Loss: 0.1176, Accuracy: 0.9633\n",
            "Epoch [2/10], Loss: 0.0428, Accuracy: 0.9864\n",
            "Epoch [3/10], Loss: 0.0299, Accuracy: 0.9906\n",
            "Epoch [4/10], Loss: 0.0262, Accuracy: 0.9914\n",
            "Epoch [5/10], Loss: 0.0198, Accuracy: 0.9934\n",
            "Epoch [6/10], Loss: 0.0152, Accuracy: 0.9953\n",
            "Epoch [7/10], Loss: 0.0132, Accuracy: 0.9958\n",
            "Epoch [8/10], Loss: 0.0137, Accuracy: 0.9955\n",
            "Epoch [9/10], Loss: 0.0101, Accuracy: 0.9966\n",
            "Epoch [10/10], Loss: 0.0087, Accuracy: 0.9970\n"
          ]
        }
      ],
      "source": [
        "import torch\n",
        "import torch.nn as nn\n",
        "import torch.optim as optim\n",
        "\n",
        "# Define your custom model\n",
        "class CustomModel(nn.Module):\n",
        "    def __init__(self, input_shape, num_classes):\n",
        "        super(CustomModel, self).__init__()\n",
        "\n",
        "        self.conv1 = nn.Conv2d(input_shape[0], 32, kernel_size=3, padding=1)\n",
        "        self.bn1 = nn.BatchNorm2d(32)\n",
        "        self.relu1 = nn.ReLU()\n",
        "        self.pool1 = nn.MaxPool2d(kernel_size=2, stride=2)\n",
        "\n",
        "        self.conv2 = nn.Conv2d(32, 64, kernel_size=3, padding=1)\n",
        "        self.bn2 = nn.BatchNorm2d(64)\n",
        "        self.relu2 = nn.ReLU()\n",
        "        self.pool2 = nn.MaxPool2d(kernel_size=2, stride=2)\n",
        "\n",
        "        self.fc1 = nn.Linear(64 * 7 * 7, 256)\n",
        "        self.relu3 = nn.ReLU()\n",
        "        self.fc2 = nn.Linear(256, num_classes)\n",
        "\n",
        "    def forward(self, x):\n",
        "        x = self.conv1(x)\n",
        "        x = self.bn1(x)\n",
        "        x = self.relu1(x)\n",
        "        x = self.pool1(x)\n",
        "\n",
        "        x = self.conv2(x)\n",
        "        x = self.bn2(x)\n",
        "        x = self.relu2(x)\n",
        "        x = self.pool2(x)\n",
        "\n",
        "        x = x.view(x.size(0), -1)\n",
        "        x = self.fc1(x)\n",
        "        x = self.relu3(x)\n",
        "        x = self.fc2(x)\n",
        "\n",
        "        return x\n",
        "\n",
        "# Set the device (CPU or GPU) for training\n",
        "device = torch.device('cuda' if torch.cuda.is_available() else 'cpu')\n",
        "\n",
        "# Define the input shape and number of classes\n",
        "input_shape = (1, 28, 28)\n",
        "num_classes = 10\n",
        "\n",
        "# Create an instance of your custom model\n",
        "model = CustomModel(input_shape, num_classes)\n",
        "\n",
        "# Move the model to the device\n",
        "model.to(device)\n",
        "\n",
        "# Define the optimizer and loss function\n",
        "optimizer = optim.Adam(model.parameters(), lr=0.001)\n",
        "criterion = nn.CrossEntropyLoss()\n",
        "\n",
        "# Define the number of epochs and other training parameters\n",
        "num_epochs = 10\n",
        "batch_size = 64\n",
        "\n",
        "# Training loop\n",
        "for epoch in range(num_epochs):\n",
        "    # Set the model in training mode\n",
        "    model.train()\n",
        "\n",
        "    running_loss = 0.0\n",
        "    correct = 0\n",
        "    total = 0\n",
        "\n",
        "    for images, labels in train_loader:\n",
        "        # Move the images and labels to the device\n",
        "        images = images.to(device)\n",
        "        labels = labels.to(device)\n",
        "\n",
        "        # Zero the gradients\n",
        "        optimizer.zero_grad()\n",
        "\n",
        "        # Forward pass\n",
        "        outputs = model(images)\n",
        "        loss = criterion(outputs, labels)\n",
        "\n",
        "        # Backward pass and optimization\n",
        "        loss.backward()\n",
        "        optimizer.step()\n",
        "\n",
        "        # Update running loss and accuracy\n",
        "        running_loss += loss.item()\n",
        "        _, predicted = torch.max(outputs.data, 1)\n",
        "        total += labels.size(0)\n",
        "        correct += (predicted == labels).sum().item()\n",
        "\n",
        "    # Calculate average loss and accuracy for the epoch\n",
        "    epoch_loss = running_loss / len(train_loader)\n",
        "    epoch_accuracy = correct / total\n",
        "\n",
        "    # Print the progress for each epoch\n",
        "    print(f'Epoch [{epoch+1}/{num_epochs}], Loss: {epoch_loss:.4f}, Accuracy: {epoch_accuracy:.4f}')\n",
        "\n",
        "# Save the trained model weights to a file\n",
        "torch.save(model.state_dict(), 'custom_model_weights.pth')\n"
      ]
    },
    {
      "cell_type": "markdown",
      "metadata": {
        "id": "5mcnPM6L1geQ"
      },
      "source": [
        "15. You can leave a feedback, if you want :)"
      ]
    },
    {
      "cell_type": "markdown",
      "metadata": {
        "id": "Nx0V_DxF1geQ"
      },
      "source": []
    },
    {
      "cell_type": "markdown",
      "metadata": {
        "id": "2bEoIJAG1geQ"
      },
      "source": [
        "16. Send your results(notebook+weights) in a *.zip file by e-mail\n",
        "\n",
        "or (preferred) send link to your's github (public) repository with your results."
      ]
    },
    {
      "cell_type": "markdown",
      "metadata": {
        "id": "BWg_rm_r1geR"
      },
      "source": []
    }
  ],
  "metadata": {
    "kernelspec": {
      "display_name": "Python 3",
      "name": "python3"
    },
    "language_info": {
      "codemirror_mode": {
        "name": "ipython",
        "version": 3
      },
      "file_extension": ".py",
      "mimetype": "text/x-python",
      "name": "python",
      "nbconvert_exporter": "python",
      "pygments_lexer": "ipython3",
      "version": "3.8.10"
    },
    "orig_nbformat": 4,
    "vscode": {
      "interpreter": {
        "hash": "e7370f93d1d0cde622a1f8e1c04877d8463912d04d973331ad4851f04de6915a"
      }
    },
    "colab": {
      "provenance": [],
      "gpuType": "T4",
      "include_colab_link": true
    },
    "accelerator": "GPU"
  },
  "nbformat": 4,
  "nbformat_minor": 0
}